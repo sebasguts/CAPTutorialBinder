{
 "cells": [
  {
   "cell_type": "markdown",
   "metadata": {},
   "source": [
    "# The category of groups\n",
    "\n",
    "When implementing a category in CAP, one should always have the corresponding classical\n",
    "category in mind. In this example we start with the category of groups. The objects in this\n",
    "category will be the groups, the morphisms will be the homomorphisms of groups. Every category\n",
    "in CAP is presented by a category GAP object. We start by creating this object."
   ]
  },
  {
   "cell_type": "code",
   "execution_count": 2,
   "metadata": {},
   "outputs": [
    {
     "name": "stdout",
     "output_type": "stream",
     "text": [
      "<Operation \"IsEqualForMorphisms\"><Operation \"IsEqualForMorphisms\"><Operation \"IsEqualForMorphisms\"><Operation \"IsCongruentForMorphisms\"><Operation \"IsCongruentForMorphisms\"><Operation \"IsCongruentForMorphisms\">"
     ]
    },
    {
     "data": {
      "text/plain": [
       "true"
      ]
     },
     "execution_count": 1,
     "metadata": {},
     "output_type": "execute_result"
    },
    {
     "data": {
      "text/plain": [
       "groups"
      ]
     },
     "execution_count": 2,
     "metadata": {},
     "output_type": "execute_result"
    }
   ],
   "source": [
    "LoadPackage( \"CAP\" );\n",
    "grps := CreateCapCategory( \"groups\" );"
   ]
  },
  {
   "cell_type": "markdown",
   "metadata": {},
   "source": [
    "The string is just the name of the category we have created, and the object the variable\n",
    "\\texttt{grps} refers to stores information about the category. We can now continue by\n",
    "telling the category how operations on the objects or morphisms are performed by adding\n",
    "functions the category. First, there should be a compose method for morphisms. In GAP\n",
    "morphisms of groups are composed via the `\\*` operator, so we use the two\n",
    "argument function `\\*` as function for `PreCompose`."
   ]
  },
  {
   "cell_type": "code",
   "execution_count": 3,
   "metadata": {},
   "outputs": [],
   "source": [
    "AddPreCompose( grps, \\* );"
   ]
  },
  {
   "cell_type": "markdown",
   "metadata": {},
   "source": [
    "Now the composition of two morphisms will be computed by the `\\*` operation.\n",
    "Another thing every category needs is a function to compute the identity morphism. For this\n",
    "category of groups this can be done as follows."
   ]
  },
  {
   "cell_type": "code",
   "execution_count": 5,
   "metadata": {},
   "outputs": [
    {
     "data": {
      "text/plain": [
       "function( grp ) ... end"
      ]
     },
     "execution_count": 4,
     "metadata": {},
     "output_type": "execute_result"
    }
   ],
   "source": [
    "identity_func := grp -> GroupHomomorphismByImages( grp, grp );\n",
    "AddIdentityMorphism( grps, identity_func );"
   ]
  },
  {
   "cell_type": "markdown",
   "metadata": {},
   "source": [
    "The command used above exactly creates the identity morphism of a group. Since the category\n",
    "has now all the functions we wanted it to have, we can finalize it."
   ]
  },
  {
   "cell_type": "code",
   "execution_count": 6,
   "metadata": {},
   "outputs": [
    {
     "data": {
      "text/plain": [
       "true"
      ]
     },
     "execution_count": 6,
     "metadata": {},
     "output_type": "execute_result"
    }
   ],
   "source": [
    "Finalize( grps );"
   ]
  },
  {
   "cell_type": "markdown",
   "metadata": {},
   "source": [
    "Finalizing a category is necessary after adding all the wanted operation and before constructing objects\n",
    "for it. We can now create a group and tell the system that the group should be an object in the category."
   ]
  },
  {
   "cell_type": "code",
   "execution_count": 8,
   "metadata": {},
   "outputs": [
    {
     "data": {
      "text/plain": [
       "Sym( [ 1 .. 3 ] )"
      ]
     },
     "execution_count": 7,
     "metadata": {},
     "output_type": "execute_result"
    }
   ],
   "source": [
    "S3 := SymmetricGroup( 3 );\n",
    "AddObject( grps, S3 );"
   ]
  },
  {
   "cell_type": "code",
   "execution_count": 10,
   "metadata": {},
   "outputs": [
    {
     "data": {
      "text/plain": [
       "Sym( [ 1 .. 4 ] )"
      ]
     },
     "execution_count": 9,
     "metadata": {},
     "output_type": "execute_result"
    }
   ],
   "source": [
    "S4 := SymmetricGroup( 4 );\n",
    "AddObject( grps, S4 );"
   ]
  },
  {
   "cell_type": "markdown",
   "metadata": {},
   "source": [
    "Now those groups are by CAP considered objects in the category `grps`, and we can\n",
    "ask them about their category. Also, they are now part of the GAP filter `IsCapCategoryObject`."
   ]
  },
  {
   "cell_type": "code",
   "execution_count": 11,
   "metadata": {},
   "outputs": [
    {
     "data": {
      "text/plain": [
       "groups"
      ]
     },
     "execution_count": 11,
     "metadata": {},
     "output_type": "execute_result"
    }
   ],
   "source": [
    "CapCategory( S3 );"
   ]
  },
  {
   "cell_type": "code",
   "execution_count": 12,
   "metadata": {},
   "outputs": [
    {
     "data": {
      "text/plain": [
       "true"
      ]
     },
     "execution_count": 12,
     "metadata": {},
     "output_type": "execute_result"
    }
   ],
   "source": [
    "IsCapCategoryObject( S4 );"
   ]
  },
  {
   "cell_type": "markdown",
   "metadata": {},
   "source": [
    "Now manipulation of the groups is possible using the functions we have already provided to the category.\n",
    "It is possible to construct the identity of a group, and compose it with itself."
   ]
  },
  {
   "cell_type": "code",
   "execution_count": 13,
   "metadata": {},
   "outputs": [
    {
     "data": {
      "text/plain": [
       "<An identity morphism in groups>"
      ]
     },
     "execution_count": 13,
     "metadata": {},
     "output_type": "execute_result"
    }
   ],
   "source": [
    "id_S3 := IdentityMorphism( S3 );"
   ]
  },
  {
   "cell_type": "code",
   "execution_count": 14,
   "metadata": {},
   "outputs": [
    {
     "data": {
      "text/plain": [
       "<An identity morphism in groups>"
      ]
     },
     "execution_count": 14,
     "metadata": {},
     "output_type": "execute_result"
    }
   ],
   "source": [
    "PreCompose( id_S3, id_S3 );"
   ]
  },
  {
   "cell_type": "markdown",
   "metadata": {},
   "source": [
    "Of course, one can also create a morphism between `S3` and `S4` and add it to the category.\n",
    "After that, we can also compose it with the identity morphism."
   ]
  },
  {
   "cell_type": "code",
   "execution_count": 16,
   "metadata": {},
   "outputs": [
    {
     "data": {
      "text/plain": [
       "<A morphism in groups>"
      ]
     },
     "execution_count": 15,
     "metadata": {},
     "output_type": "execute_result"
    }
   ],
   "source": [
    "S3_S4 := GroupHomomorphismByImages( S3, S4, GeneratorsOfGroup(S3) );\n",
    "AddMorphism( grps, S3_S4 );"
   ]
  },
  {
   "cell_type": "code",
   "execution_count": 17,
   "metadata": {},
   "outputs": [
    {
     "data": {
      "text/plain": [
       "<A morphism in groups>"
      ]
     },
     "execution_count": 17,
     "metadata": {},
     "output_type": "execute_result"
    }
   ],
   "source": [
    "PreCompose( id_S3, S3_S4 );"
   ]
  },
  {
   "cell_type": "markdown",
   "metadata": {},
   "source": [
    "Please note that the constructors for objects and morphisms used in this example are the ones provided\n",
    "by GAP itself, and the only \"change\" done to the data structure was adding it to the category.\n",
    "This is one of the design principles of CAP. Already existing data structures and algorithms\n",
    "can be integrated into the system with little to no effort, which makes it possible to integrate CAP\n",
    "into many existing projects."
   ]
  }
 ],
 "metadata": {
  "kernelspec": {
   "display_name": "GAP 4 (native)",
   "language": "gap",
   "name": "gap-native"
  },
  "language_info": {
   "codemirror_mode": "gap",
   "file_extension": ".g",
   "mimetype": "text/x-gap",
   "name": "GAP (native)",
   "nbconvert_exporter": "",
   "pygments_lexer": "gap",
   "version": "4.dev"
  }
 },
 "nbformat": 4,
 "nbformat_minor": 2
}
